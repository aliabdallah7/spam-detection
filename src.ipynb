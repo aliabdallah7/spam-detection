{
 "cells": [
  {
   "cell_type": "markdown",
   "id": "7b3d326a-4434-46d3-b9ac-b7be962bf57b",
   "metadata": {},
   "source": [
    "<p><a href=\"https://www.asu.edu.eg/\"><img align=\"right\" src=\"https://ums.asu.edu.eg/images/logo.png\" width=\"100\" /></a></p>\n",
    "<div align=left>\n",
    "<h1>\n",
    "  Spam Detection\n",
    "</h1>\n",
    "    <h6>\n",
    "        Data Analytics Task\n",
    "    </h6>\n",
    "</div>\n",
    "<br>\n",
    "<br>"
   ]
  },
  {
   "cell_type": "markdown",
   "id": "29ccec4f-d8a7-4bb1-9eee-1ae7199b87ff",
   "metadata": {},
   "source": [
    "#### All libraries that we will need and use through the notebook"
   ]
  },
  {
   "cell_type": "code",
   "execution_count": 337,
   "id": "15fc709c",
   "metadata": {},
   "outputs": [],
   "source": [
    "import numpy as np \n",
    "import pandas as pd \n",
    "\n",
    "import matplotlib.pyplot as plt\n",
    "import seaborn as sns\n",
    "import string\n",
    "import nltk\n",
    "from nltk.corpus import stopwords\n",
    "from nltk.tokenize import word_tokenize\n",
    "from nltk.stem import PorterStemmer,WordNetLemmatizer\n",
    "from sklearn.feature_extraction.text import CountVectorizer\n",
    "from gensim.models import Word2Vec\n",
    "from sklearn.feature_extraction.text import TfidfVectorizer\n",
    "from sklearn.model_selection import train_test_split\n",
    "from sklearn.preprocessing import LabelEncoder\n",
    "from sklearn.linear_model import LogisticRegression\n",
    "from sklearn.svm import SVC\n",
    "from sklearn.tree import DecisionTreeClassifier\n",
    "from sklearn.metrics import accuracy_score\n",
    "from sklearn.metrics import classification_report\n",
    "import joblib\n",
    "import pickle\n",
    "%matplotlib inline"
   ]
  },
  {
   "cell_type": "markdown",
   "id": "c45ad4a3-f68b-4c18-8c0f-50a150d2c5a6",
   "metadata": {},
   "source": [
    "#### Reading the dataset"
   ]
  },
  {
   "cell_type": "code",
   "execution_count": 338,
   "id": "4d3eea65-df69-4260-b7e6-c4fa4c2b54f7",
   "metadata": {},
   "outputs": [
    {
     "data": {
      "text/html": [
       "<div>\n",
       "<style scoped>\n",
       "    .dataframe tbody tr th:only-of-type {\n",
       "        vertical-align: middle;\n",
       "    }\n",
       "\n",
       "    .dataframe tbody tr th {\n",
       "        vertical-align: top;\n",
       "    }\n",
       "\n",
       "    .dataframe thead th {\n",
       "        text-align: right;\n",
       "    }\n",
       "</style>\n",
       "<table border=\"1\" class=\"dataframe\">\n",
       "  <thead>\n",
       "    <tr style=\"text-align: right;\">\n",
       "      <th></th>\n",
       "      <th>v1</th>\n",
       "      <th>v2</th>\n",
       "      <th>Unnamed: 2</th>\n",
       "      <th>Unnamed: 3</th>\n",
       "      <th>Unnamed: 4</th>\n",
       "    </tr>\n",
       "  </thead>\n",
       "  <tbody>\n",
       "    <tr>\n",
       "      <th>0</th>\n",
       "      <td>ham</td>\n",
       "      <td>Go until jurong point, crazy.. Available only ...</td>\n",
       "      <td>NaN</td>\n",
       "      <td>NaN</td>\n",
       "      <td>NaN</td>\n",
       "    </tr>\n",
       "    <tr>\n",
       "      <th>1</th>\n",
       "      <td>ham</td>\n",
       "      <td>Ok lar... Joking wif u oni...</td>\n",
       "      <td>NaN</td>\n",
       "      <td>NaN</td>\n",
       "      <td>NaN</td>\n",
       "    </tr>\n",
       "    <tr>\n",
       "      <th>2</th>\n",
       "      <td>spam</td>\n",
       "      <td>Free entry in 2 a wkly comp to win FA Cup fina...</td>\n",
       "      <td>NaN</td>\n",
       "      <td>NaN</td>\n",
       "      <td>NaN</td>\n",
       "    </tr>\n",
       "    <tr>\n",
       "      <th>3</th>\n",
       "      <td>ham</td>\n",
       "      <td>U dun say so early hor... U c already then say...</td>\n",
       "      <td>NaN</td>\n",
       "      <td>NaN</td>\n",
       "      <td>NaN</td>\n",
       "    </tr>\n",
       "    <tr>\n",
       "      <th>4</th>\n",
       "      <td>ham</td>\n",
       "      <td>Nah I don't think he goes to usf, he lives aro...</td>\n",
       "      <td>NaN</td>\n",
       "      <td>NaN</td>\n",
       "      <td>NaN</td>\n",
       "    </tr>\n",
       "  </tbody>\n",
       "</table>\n",
       "</div>"
      ],
      "text/plain": [
       "     v1                                                 v2 Unnamed: 2  \\\n",
       "0   ham  Go until jurong point, crazy.. Available only ...        NaN   \n",
       "1   ham                      Ok lar... Joking wif u oni...        NaN   \n",
       "2  spam  Free entry in 2 a wkly comp to win FA Cup fina...        NaN   \n",
       "3   ham  U dun say so early hor... U c already then say...        NaN   \n",
       "4   ham  Nah I don't think he goes to usf, he lives aro...        NaN   \n",
       "\n",
       "  Unnamed: 3 Unnamed: 4  \n",
       "0        NaN        NaN  \n",
       "1        NaN        NaN  \n",
       "2        NaN        NaN  \n",
       "3        NaN        NaN  \n",
       "4        NaN        NaN  "
      ]
     },
     "execution_count": 338,
     "metadata": {},
     "output_type": "execute_result"
    }
   ],
   "source": [
    "df = pd.read_csv('data_spam.csv', encoding='latin-1')\n",
    "df.head()"
   ]
  },
  {
   "cell_type": "markdown",
   "id": "05a82233-5ced-425a-8e64-91fbf4929335",
   "metadata": {},
   "source": [
    "# Data Cleaning"
   ]
  },
  {
   "cell_type": "code",
   "execution_count": 339,
   "id": "6f828ea2-e920-4484-b9fd-58e864818a80",
   "metadata": {
    "tags": []
   },
   "outputs": [],
   "source": [
    "df.drop(['Unnamed: 2', 'Unnamed: 3', 'Unnamed: 4'],axis=1,inplace=True)"
   ]
  },
  {
   "cell_type": "code",
   "execution_count": 340,
   "id": "6fe27312-4400-417c-afb2-99b5d2667a8d",
   "metadata": {
    "tags": []
   },
   "outputs": [
    {
     "data": {
      "text/html": [
       "<div>\n",
       "<style scoped>\n",
       "    .dataframe tbody tr th:only-of-type {\n",
       "        vertical-align: middle;\n",
       "    }\n",
       "\n",
       "    .dataframe tbody tr th {\n",
       "        vertical-align: top;\n",
       "    }\n",
       "\n",
       "    .dataframe thead th {\n",
       "        text-align: right;\n",
       "    }\n",
       "</style>\n",
       "<table border=\"1\" class=\"dataframe\">\n",
       "  <thead>\n",
       "    <tr style=\"text-align: right;\">\n",
       "      <th></th>\n",
       "      <th>Category</th>\n",
       "      <th>Message</th>\n",
       "    </tr>\n",
       "  </thead>\n",
       "  <tbody>\n",
       "    <tr>\n",
       "      <th>0</th>\n",
       "      <td>ham</td>\n",
       "      <td>Go until jurong point, crazy.. Available only ...</td>\n",
       "    </tr>\n",
       "    <tr>\n",
       "      <th>1</th>\n",
       "      <td>ham</td>\n",
       "      <td>Ok lar... Joking wif u oni...</td>\n",
       "    </tr>\n",
       "    <tr>\n",
       "      <th>2</th>\n",
       "      <td>spam</td>\n",
       "      <td>Free entry in 2 a wkly comp to win FA Cup fina...</td>\n",
       "    </tr>\n",
       "    <tr>\n",
       "      <th>3</th>\n",
       "      <td>ham</td>\n",
       "      <td>U dun say so early hor... U c already then say...</td>\n",
       "    </tr>\n",
       "    <tr>\n",
       "      <th>4</th>\n",
       "      <td>ham</td>\n",
       "      <td>Nah I don't think he goes to usf, he lives aro...</td>\n",
       "    </tr>\n",
       "  </tbody>\n",
       "</table>\n",
       "</div>"
      ],
      "text/plain": [
       "  Category                                            Message\n",
       "0      ham  Go until jurong point, crazy.. Available only ...\n",
       "1      ham                      Ok lar... Joking wif u oni...\n",
       "2     spam  Free entry in 2 a wkly comp to win FA Cup fina...\n",
       "3      ham  U dun say so early hor... U c already then say...\n",
       "4      ham  Nah I don't think he goes to usf, he lives aro..."
      ]
     },
     "execution_count": 340,
     "metadata": {},
     "output_type": "execute_result"
    }
   ],
   "source": [
    "df = df.rename({\"v1\":\"Category\", \"v2\":\"Message\"}, axis=1)\n",
    "df.head()"
   ]
  },
  {
   "cell_type": "code",
   "execution_count": 341,
   "id": "6f46e343-3c4b-4539-bc06-80ac40e4d1a4",
   "metadata": {
    "tags": []
   },
   "outputs": [
    {
     "data": {
      "text/plain": [
       "Category    0\n",
       "Message     0\n",
       "dtype: int64"
      ]
     },
     "execution_count": 341,
     "metadata": {},
     "output_type": "execute_result"
    }
   ],
   "source": [
    "df.isnull().sum()"
   ]
  },
  {
   "cell_type": "code",
   "execution_count": 342,
   "id": "586687b1-0c34-4315-852a-0eadbee93cc6",
   "metadata": {
    "tags": []
   },
   "outputs": [
    {
     "name": "stdout",
     "output_type": "stream",
     "text": [
      "<class 'pandas.core.frame.DataFrame'>\n",
      "RangeIndex: 5572 entries, 0 to 5571\n",
      "Data columns (total 2 columns):\n",
      " #   Column    Non-Null Count  Dtype \n",
      "---  ------    --------------  ----- \n",
      " 0   Category  5572 non-null   object\n",
      " 1   Message   5572 non-null   object\n",
      "dtypes: object(2)\n",
      "memory usage: 87.2+ KB\n"
     ]
    }
   ],
   "source": [
    "df.info()"
   ]
  },
  {
   "cell_type": "code",
   "execution_count": 343,
   "id": "cfb03889-63f5-4e7f-bc27-e2c3b26a2131",
   "metadata": {
    "tags": []
   },
   "outputs": [
    {
     "data": {
      "text/plain": [
       "Text(0.5, 1.0, 'Number of ham and spam messages')"
      ]
     },
     "execution_count": 343,
     "metadata": {},
     "output_type": "execute_result"
    },
    {
     "data": {
      "image/png": "[encoded data removed]",
      "text/plain": [
       "<Figure size 640x480 with 1 Axes>"
      ]
     },
     "metadata": {},
     "output_type": "display_data"
    }
   ],
   "source": [
    "#plot the ham and spam messages to understand the distribution\n",
    "sns.countplot(data=df, x=df.Category)\n",
    "plt.xlabel('Category')\n",
    "plt.title('Number of ham and spam messages')"
   ]
  },
  {
   "cell_type": "code",
   "execution_count": 344,
   "id": "23a87339-c768-4f9b-aa04-eebe8f234b92",
   "metadata": {
    "tags": []
   },
   "outputs": [
    {
     "data": {
      "text/plain": [
       "<AxesSubplot: title={'center': 'Category'}>"
      ]
     },
     "execution_count": 344,
     "metadata": {},
     "output_type": "execute_result"
    },
    {
     "data": {
      "image/png": "[encoded data removed]",
      "text/plain": [
       "<Figure size 640x480 with 1 Axes>"
      ]
     },
     "metadata": {},
     "output_type": "display_data"
    }
   ],
   "source": [
    "df.groupby('Category').size().plot(kind='pie', autopct='%.2f', colors=['red', 'yellow'], title=\"Category\")"
   ]
  },
  {
   "cell_type": "markdown",
   "id": "bf3c7df2-e5d2-4bf0-914e-060063db1b3c",
   "metadata": {},
   "source": [
    "We can observe that Ham contains 86.6% while spam constitute only 13.4% of the total dataset"
   ]
  },
  {
   "cell_type": "markdown",
   "id": "c0014205-e4de-4da7-949f-1e4c882ecf5d",
   "metadata": {
    "tags": []
   },
   "source": [
    "# Text Preprocessing"
   ]
  },
  {
   "cell_type": "markdown",
   "id": "07a96084-7264-4fb1-8458-ef506b6de573",
   "metadata": {},
   "source": [
    "### Removing punctuations from Message Column"
   ]
  },
  {
   "cell_type": "markdown",
   "id": "0a3e091e-b4bc-4b60-b404-1920539de1b7",
   "metadata": {},
   "source": [
    "- `remove_punctuations()` which takes a string as input and returns the same string with all punctuation characters removed. The function first creates a translation table using `str.maketrans()` and the `string.punctuation` constant, which contains all the punctuation characters. It then uses the `translate()` method of the string to remove the punctuations.\n",
    "- I use the `apply()` method to apply the `remove_punctuations()` function to each row of the `Meassage` column and replace the original values with the modified ones."
   ]
  },
  {
   "cell_type": "code",
   "execution_count": 345,
   "id": "abcb6a96-e521-4644-9f91-baec07ea7b1d",
   "metadata": {
    "tags": []
   },
   "outputs": [],
   "source": [
    "# Define a function to remove punctuations from a string\n",
    "def remove_punctuations(text):\n",
    "    translator = str.maketrans('', '', string.punctuation)\n",
    "    return text.translate(translator)\n",
    "\n",
    "# Apply the remove_punctuations function to each row of the column\n",
    "df['Message'] = df['Message'].apply(remove_punctuations)"
   ]
  },
  {
   "cell_type": "code",
   "execution_count": 346,
   "id": "c9c241e1-9d4a-45e7-9790-6403cb71e1cc",
   "metadata": {
    "tags": []
   },
   "outputs": [
    {
     "data": {
      "text/html": [
       "<div>\n",
       "<style scoped>\n",
       "    .dataframe tbody tr th:only-of-type {\n",
       "        vertical-align: middle;\n",
       "    }\n",
       "\n",
       "    .dataframe tbody tr th {\n",
       "        vertical-align: top;\n",
       "    }\n",
       "\n",
       "    .dataframe thead th {\n",
       "        text-align: right;\n",
       "    }\n",
       "</style>\n",
       "<table border=\"1\" class=\"dataframe\">\n",
       "  <thead>\n",
       "    <tr style=\"text-align: right;\">\n",
       "      <th></th>\n",
       "      <th>Category</th>\n",
       "      <th>Message</th>\n",
       "    </tr>\n",
       "  </thead>\n",
       "  <tbody>\n",
       "    <tr>\n",
       "      <th>0</th>\n",
       "      <td>ham</td>\n",
       "      <td>Go until jurong point crazy Available only in ...</td>\n",
       "    </tr>\n",
       "    <tr>\n",
       "      <th>1</th>\n",
       "      <td>ham</td>\n",
       "      <td>Ok lar Joking wif u oni</td>\n",
       "    </tr>\n",
       "    <tr>\n",
       "      <th>2</th>\n",
       "      <td>spam</td>\n",
       "      <td>Free entry in 2 a wkly comp to win FA Cup fina...</td>\n",
       "    </tr>\n",
       "    <tr>\n",
       "      <th>3</th>\n",
       "      <td>ham</td>\n",
       "      <td>U dun say so early hor U c already then say</td>\n",
       "    </tr>\n",
       "    <tr>\n",
       "      <th>4</th>\n",
       "      <td>ham</td>\n",
       "      <td>Nah I dont think he goes to usf he lives aroun...</td>\n",
       "    </tr>\n",
       "  </tbody>\n",
       "</table>\n",
       "</div>"
      ],
      "text/plain": [
       "  Category                                            Message\n",
       "0      ham  Go until jurong point crazy Available only in ...\n",
       "1      ham                            Ok lar Joking wif u oni\n",
       "2     spam  Free entry in 2 a wkly comp to win FA Cup fina...\n",
       "3      ham        U dun say so early hor U c already then say\n",
       "4      ham  Nah I dont think he goes to usf he lives aroun..."
      ]
     },
     "execution_count": 346,
     "metadata": {},
     "output_type": "execute_result"
    }
   ],
   "source": [
    "df.head()"
   ]
  },
  {
   "cell_type": "markdown",
   "id": "69891cf1-7383-4d02-9423-c997ae3fd660",
   "metadata": {},
   "source": [
    "### Converting all letters to lower case"
   ]
  },
  {
   "cell_type": "markdown",
   "id": "1b795dd2-6346-4028-a6b2-78c8882259a7",
   "metadata": {},
   "source": [
    "- I use the `apply()` method to apply a lambda function to each row of the `Message` column. The lambda function uses the `lower()` method to convert all letters in the string to lower case."
   ]
  },
  {
   "cell_type": "code",
   "execution_count": 347,
   "id": "7dcee27e-6d49-4fd4-8ef3-ed55b41a2ca8",
   "metadata": {
    "tags": []
   },
   "outputs": [
    {
     "data": {
      "text/html": [
       "<div>\n",
       "<style scoped>\n",
       "    .dataframe tbody tr th:only-of-type {\n",
       "        vertical-align: middle;\n",
       "    }\n",
       "\n",
       "    .dataframe tbody tr th {\n",
       "        vertical-align: top;\n",
       "    }\n",
       "\n",
       "    .dataframe thead th {\n",
       "        text-align: right;\n",
       "    }\n",
       "</style>\n",
       "<table border=\"1\" class=\"dataframe\">\n",
       "  <thead>\n",
       "    <tr style=\"text-align: right;\">\n",
       "      <th></th>\n",
       "      <th>Category</th>\n",
       "      <th>Message</th>\n",
       "    </tr>\n",
       "  </thead>\n",
       "  <tbody>\n",
       "    <tr>\n",
       "      <th>0</th>\n",
       "      <td>ham</td>\n",
       "      <td>go until jurong point crazy available only in ...</td>\n",
       "    </tr>\n",
       "    <tr>\n",
       "      <th>1</th>\n",
       "      <td>ham</td>\n",
       "      <td>ok lar joking wif u oni</td>\n",
       "    </tr>\n",
       "    <tr>\n",
       "      <th>2</th>\n",
       "      <td>spam</td>\n",
       "      <td>free entry in 2 a wkly comp to win fa cup fina...</td>\n",
       "    </tr>\n",
       "    <tr>\n",
       "      <th>3</th>\n",
       "      <td>ham</td>\n",
       "      <td>u dun say so early hor u c already then say</td>\n",
       "    </tr>\n",
       "    <tr>\n",
       "      <th>4</th>\n",
       "      <td>ham</td>\n",
       "      <td>nah i dont think he goes to usf he lives aroun...</td>\n",
       "    </tr>\n",
       "  </tbody>\n",
       "</table>\n",
       "</div>"
      ],
      "text/plain": [
       "  Category                                            Message\n",
       "0      ham  go until jurong point crazy available only in ...\n",
       "1      ham                            ok lar joking wif u oni\n",
       "2     spam  free entry in 2 a wkly comp to win fa cup fina...\n",
       "3      ham        u dun say so early hor u c already then say\n",
       "4      ham  nah i dont think he goes to usf he lives aroun..."
      ]
     },
     "execution_count": 347,
     "metadata": {},
     "output_type": "execute_result"
    }
   ],
   "source": [
    "# Convert all letters in the column to lower case\n",
    "df['Message'] = df['Message'].apply(lambda x: x.lower())\n",
    "df.head()"
   ]
  },
  {
   "cell_type": "markdown",
   "id": "02124f1b-fdc0-4294-8111-98261fa7c630",
   "metadata": {},
   "source": [
    "### Removing stop words"
   ]
  },
  {
   "cell_type": "markdown",
   "id": "00b7f7b9-e955-4f63-a023-db2d4af2e011",
   "metadata": {},
   "source": [
    "- After importing the `stopwords` and `word_tokenize` modules from the `nltk` library\n",
    "- We first define the stop words to remove as the set of English stop words using `stopwords.words('english')`.\n",
    "- Second, we difine the `remove_stop_words()` function to remove the stop words from a string. The function uses the `word_tokenize()` method to tokenize the string into words, and then filters out the stop words using a list comprehension. Finally, the function joins the remaining words into a single string.\n",
    "- Then we apply the `remove_stop_words()` function to each row of the `Message` column using the `apply()` method, and replaces the original values with the modified ones."
   ]
  },
  {
   "cell_type": "code",
   "execution_count": 348,
   "id": "aa428584-a5bc-40e6-ab27-e07e84a6a5d5",
   "metadata": {
    "tags": []
   },
   "outputs": [],
   "source": [
    "# Define the stop words to remove\n",
    "stop_words = set(stopwords.words('english'))\n",
    "\n",
    "# Define a function to remove stop words from a string\n",
    "def remove_stop_words(text):\n",
    "    word_tokens = word_tokenize(text)\n",
    "    filtered_text = [word for word in word_tokens if word.lower() not in stop_words]\n",
    "    return ' '.join(filtered_text)\n",
    "\n",
    "# Apply the remove_stop_words function to each row of the column\n",
    "df['Message'] = df['Message'].apply(remove_stop_words)"
   ]
  },
  {
   "cell_type": "code",
   "execution_count": 349,
   "id": "9f862a53-35f0-4740-885b-13a093fa2bff",
   "metadata": {
    "tags": []
   },
   "outputs": [
    {
     "data": {
      "text/html": [
       "<div>\n",
       "<style scoped>\n",
       "    .dataframe tbody tr th:only-of-type {\n",
       "        vertical-align: middle;\n",
       "    }\n",
       "\n",
       "    .dataframe tbody tr th {\n",
       "        vertical-align: top;\n",
       "    }\n",
       "\n",
       "    .dataframe thead th {\n",
       "        text-align: right;\n",
       "    }\n",
       "</style>\n",
       "<table border=\"1\" class=\"dataframe\">\n",
       "  <thead>\n",
       "    <tr style=\"text-align: right;\">\n",
       "      <th></th>\n",
       "      <th>Category</th>\n",
       "      <th>Message</th>\n",
       "    </tr>\n",
       "  </thead>\n",
       "  <tbody>\n",
       "    <tr>\n",
       "      <th>0</th>\n",
       "      <td>ham</td>\n",
       "      <td>go jurong point crazy available bugis n great ...</td>\n",
       "    </tr>\n",
       "    <tr>\n",
       "      <th>1</th>\n",
       "      <td>ham</td>\n",
       "      <td>ok lar joking wif u oni</td>\n",
       "    </tr>\n",
       "    <tr>\n",
       "      <th>2</th>\n",
       "      <td>spam</td>\n",
       "      <td>free entry 2 wkly comp win fa cup final tkts 2...</td>\n",
       "    </tr>\n",
       "    <tr>\n",
       "      <th>3</th>\n",
       "      <td>ham</td>\n",
       "      <td>u dun say early hor u c already say</td>\n",
       "    </tr>\n",
       "    <tr>\n",
       "      <th>4</th>\n",
       "      <td>ham</td>\n",
       "      <td>nah dont think goes usf lives around though</td>\n",
       "    </tr>\n",
       "  </tbody>\n",
       "</table>\n",
       "</div>"
      ],
      "text/plain": [
       "  Category                                            Message\n",
       "0      ham  go jurong point crazy available bugis n great ...\n",
       "1      ham                            ok lar joking wif u oni\n",
       "2     spam  free entry 2 wkly comp win fa cup final tkts 2...\n",
       "3      ham                u dun say early hor u c already say\n",
       "4      ham        nah dont think goes usf lives around though"
      ]
     },
     "execution_count": 349,
     "metadata": {},
     "output_type": "execute_result"
    }
   ],
   "source": [
    "df.head()"
   ]
  },
  {
   "cell_type": "markdown",
   "id": "288f2c53-3f24-41aa-b3bf-bebb35649bea",
   "metadata": {},
   "source": [
    "### Tokenization, Stemming and Lemmatization"
   ]
  },
  {
   "cell_type": "markdown",
   "id": "ac6a29e8-4027-4100-b3ee-f20890d05535",
   "metadata": {},
   "source": [
    "- We first creates a `WordNetLemmatizer` object and a `PorterStemmer` object, which will be used to perform lemmatization and stemming on the words, respectively\n",
    "- Then we define a function called `preprocess_text()` that takes a string as input, tokenizes it into words using `word_tokenize()`, applies the `lemmatize()` method of the `WordNetLemmatizer` object to each word, and then applies the `stem()` method of the `PorterStemmer` object to each lemmatized word. The resulting list of stemmed words is then joined back into a single string using `join()`."
   ]
  },
  {
   "cell_type": "code",
   "execution_count": 350,
   "id": "2358e280-56c3-4421-a2c2-53f8ecbf6a42",
   "metadata": {
    "tags": []
   },
   "outputs": [],
   "source": [
    "# Create a lemmatizer and stemmer object\n",
    "lemmatizer = WordNetLemmatizer()\n",
    "stemmer = PorterStemmer()\n",
    "\n",
    "# Define a function to tokenize, lemmatize, and stem a string\n",
    "def preprocess_text(text):\n",
    "    # Tokenize the text into words\n",
    "    words = word_tokenize(text)\n",
    "    \n",
    "    # Lemmatize each word\n",
    "    lemmatized_words = [lemmatizer.lemmatize(word) for word in words]\n",
    "    \n",
    "    # Stem each word\n",
    "    stemmed_words = [stemmer.stem(word) for word in lemmatized_words]\n",
    "    \n",
    "    # Join the stemmed words back into a single string\n",
    "    processed_text = ' '.join(stemmed_words)\n",
    "    \n",
    "    return processed_text\n",
    "\n",
    "# Apply the preprocess_text function to each row of the column\n",
    "df['Message'] = df['Message'].apply(preprocess_text)"
   ]
  },
  {
   "cell_type": "code",
   "execution_count": 351,
   "id": "2f6e3813-2e8f-40e9-b45c-8055fb3b7c1b",
   "metadata": {
    "tags": []
   },
   "outputs": [
    {
     "data": {
      "text/html": [
       "<div>\n",
       "<style scoped>\n",
       "    .dataframe tbody tr th:only-of-type {\n",
       "        vertical-align: middle;\n",
       "    }\n",
       "\n",
       "    .dataframe tbody tr th {\n",
       "        vertical-align: top;\n",
       "    }\n",
       "\n",
       "    .dataframe thead th {\n",
       "        text-align: right;\n",
       "    }\n",
       "</style>\n",
       "<table border=\"1\" class=\"dataframe\">\n",
       "  <thead>\n",
       "    <tr style=\"text-align: right;\">\n",
       "      <th></th>\n",
       "      <th>Category</th>\n",
       "      <th>Message</th>\n",
       "    </tr>\n",
       "  </thead>\n",
       "  <tbody>\n",
       "    <tr>\n",
       "      <th>0</th>\n",
       "      <td>ham</td>\n",
       "      <td>go jurong point crazi avail bugi n great world...</td>\n",
       "    </tr>\n",
       "    <tr>\n",
       "      <th>1</th>\n",
       "      <td>ham</td>\n",
       "      <td>ok lar joke wif u oni</td>\n",
       "    </tr>\n",
       "    <tr>\n",
       "      <th>2</th>\n",
       "      <td>spam</td>\n",
       "      <td>free entri 2 wkli comp win fa cup final tkt 21...</td>\n",
       "    </tr>\n",
       "    <tr>\n",
       "      <th>3</th>\n",
       "      <td>ham</td>\n",
       "      <td>u dun say earli hor u c alreadi say</td>\n",
       "    </tr>\n",
       "    <tr>\n",
       "      <th>4</th>\n",
       "      <td>ham</td>\n",
       "      <td>nah dont think go usf life around though</td>\n",
       "    </tr>\n",
       "  </tbody>\n",
       "</table>\n",
       "</div>"
      ],
      "text/plain": [
       "  Category                                            Message\n",
       "0      ham  go jurong point crazi avail bugi n great world...\n",
       "1      ham                              ok lar joke wif u oni\n",
       "2     spam  free entri 2 wkli comp win fa cup final tkt 21...\n",
       "3      ham                u dun say earli hor u c alreadi say\n",
       "4      ham           nah dont think go usf life around though"
      ]
     },
     "execution_count": 351,
     "metadata": {},
     "output_type": "execute_result"
    }
   ],
   "source": [
    "df.head()"
   ]
  },
  {
   "cell_type": "markdown",
   "id": "b5eb05e9-c545-4f18-9291-9d0ba3f24690",
   "metadata": {},
   "source": [
    "## Bag of words & word embedding Features"
   ]
  },
  {
   "cell_type": "markdown",
   "id": "a5e847d2-509a-4d95-bf85-6275051082ea",
   "metadata": {},
   "source": [
    "1. First, we create an instance of the CountVectorizer class with a maximum of 5000 features. <br>The `CountVectorizer` class is used to convert the text data into a matrix of token counts. The `max_features` parameter specifies the maximum number of features to keep.\n",
    "\n",
    "2. Fitting and transform the \"Message\" column using the CountVectorizer object. <br>The `fit_transform` method of the `CountVectorizer` object is used to fit the vectorizer to the \"Message\" column of the data frame `df` and transform the data into a matrix of token counts. The resulting matrix `bow_features` will have one row for each message in the data frame and one column for each token in the vocabulary.\n",
    "\n",
    "3. Creating an instance of the Word2Vec model with a vector size of 100 and minimum word count of 1. <br>The `Word2Vec` class is used to create a word embedding model that can represent words as dense vectors. The `vector_size` parameter specifies the size of the word vectors, and the `min_count` parameter specifies the minimum number of times a word must appear in the data to be included in the vocabulary.\n",
    "\n",
    "4. We define a function `get_mean_word_embedding` to calculate the average word embedding for each row. <br>The `get_mean_word_embedding` function takes a single argument `row`, which is a string containing a message. The function splits the message into individual words, looks up the word embeddings for each word in the `w2v_model`, and calculates the average embedding for the entire message. If a word is not found in the vocabulary, it is ignored. If no embeddings are found for the message, the function returns a vector of zeros with the same size as the word vectors.\n",
    "\n",
    "5. We apply the `get_mean_word_embedding` function to each row of the \"Message\" column. <br>The `apply` method of the `DataFrame` object is used to apply the `get_mean_word_embedding` function to each row of the \"Message\" column in the data frame `df`. The resulting `w2v_features` object will contain one row for each message in the data frame and one column for each element in the word vectors.\n",
    "\n",
    "6. Now, We concatenate the bag-of-words and word embedding feature matrices together. <br>The `numpy.concatenate` function is used to concatenate the bag-of-words feature matrix `bow_features` with the word embedding feature matrix `w2v_features`. The resulting `features` matrix will have one row for each message in the data frame and a number of columns"
   ]
  },
  {
   "cell_type": "code",
   "execution_count": 352,
   "id": "10c0781f-372e-4062-876d-ab58adfb5772",
   "metadata": {},
   "outputs": [],
   "source": [
    "# create an instance of the CountVectorizer class\n",
    "cv = CountVectorizer()\n",
    "\n",
    "# fit and transform the \"Message\" column using the CountVectorizer\n",
    "bow_features = cv.fit_transform(df['Message'])\n",
    "\n",
    "# create an instance of the Word2Vec model\n",
    "w2v_model = Word2Vec(sentences=df['Message'].apply(lambda x: x.split()), vector_size=100, min_count=1)\n",
    "\n",
    "# save the trained Word2Vec model to disk using pickle\n",
    "with open('word2vec.pkl', 'wb') as f:\n",
    "    pickle.dump(w2v_model, f)\n",
    "\n",
    "# define a function to calculate the average word embedding for each row\n",
    "def get_mean_word_embedding(row):\n",
    "    words = row.split()\n",
    "    embeddings = []\n",
    "    for word in words:\n",
    "        if word in w2v_model.wv:\n",
    "            embeddings.append(w2v_model.wv[word])\n",
    "    if len(embeddings) > 0:\n",
    "        return np.mean(embeddings, axis=0)\n",
    "    else:\n",
    "        return np.zeros((100,))\n",
    "\n",
    "# apply the get_mean_word_embedding function to each row of the \"Message\" column\n",
    "w2v_features = df['Message'].apply(get_mean_word_embedding)\n",
    "\n",
    "# concatenate the bag-of-words and word embedding feature matrices together\n",
    "features = np.concatenate((bow_features.toarray(), np.stack(w2v_features.values)), axis=1)"
   ]
  },
  {
   "cell_type": "code",
   "execution_count": 353,
   "id": "fc920a83",
   "metadata": {},
   "outputs": [],
   "source": [
    "# store the vectorizer object in a separate pickle file\n",
    "pickle.dump(cv, open('count_vectorizer.pkl', 'wb'))"
   ]
  },
  {
   "cell_type": "markdown",
   "id": "359b2b1f-fd95-45e3-8f25-1087681bda78",
   "metadata": {},
   "source": [
    "# Creating a model that fits the data"
   ]
  },
  {
   "cell_type": "code",
   "execution_count": 354,
   "id": "a007ccdb-2d5a-4a05-992f-2e7e11ac8ec6",
   "metadata": {
    "tags": []
   },
   "outputs": [],
   "source": [
    "# Label Encode The Target Variable\n",
    "encode = LabelEncoder()\n",
    "df.Category = encode.fit_transform(df.Category)"
   ]
  },
  {
   "cell_type": "code",
   "execution_count": 355,
   "id": "71cf104f-228f-4de9-8e13-7dd4956170a8",
   "metadata": {
    "tags": []
   },
   "outputs": [
    {
     "data": {
      "text/html": [
       "<div>\n",
       "<style scoped>\n",
       "    .dataframe tbody tr th:only-of-type {\n",
       "        vertical-align: middle;\n",
       "    }\n",
       "\n",
       "    .dataframe tbody tr th {\n",
       "        vertical-align: top;\n",
       "    }\n",
       "\n",
       "    .dataframe thead th {\n",
       "        text-align: right;\n",
       "    }\n",
       "</style>\n",
       "<table border=\"1\" class=\"dataframe\">\n",
       "  <thead>\n",
       "    <tr style=\"text-align: right;\">\n",
       "      <th></th>\n",
       "      <th>Category</th>\n",
       "      <th>Message</th>\n",
       "    </tr>\n",
       "  </thead>\n",
       "  <tbody>\n",
       "    <tr>\n",
       "      <th>0</th>\n",
       "      <td>0</td>\n",
       "      <td>go jurong point crazi avail bugi n great world...</td>\n",
       "    </tr>\n",
       "    <tr>\n",
       "      <th>1</th>\n",
       "      <td>0</td>\n",
       "      <td>ok lar joke wif u oni</td>\n",
       "    </tr>\n",
       "    <tr>\n",
       "      <th>2</th>\n",
       "      <td>1</td>\n",
       "      <td>free entri 2 wkli comp win fa cup final tkt 21...</td>\n",
       "    </tr>\n",
       "    <tr>\n",
       "      <th>3</th>\n",
       "      <td>0</td>\n",
       "      <td>u dun say earli hor u c alreadi say</td>\n",
       "    </tr>\n",
       "    <tr>\n",
       "      <th>4</th>\n",
       "      <td>0</td>\n",
       "      <td>nah dont think go usf life around though</td>\n",
       "    </tr>\n",
       "  </tbody>\n",
       "</table>\n",
       "</div>"
      ],
      "text/plain": [
       "   Category                                            Message\n",
       "0         0  go jurong point crazi avail bugi n great world...\n",
       "1         0                              ok lar joke wif u oni\n",
       "2         1  free entri 2 wkli comp win fa cup final tkt 21...\n",
       "3         0                u dun say earli hor u c alreadi say\n",
       "4         0           nah dont think go usf life around though"
      ]
     },
     "execution_count": 355,
     "metadata": {},
     "output_type": "execute_result"
    }
   ],
   "source": [
    "df.head()"
   ]
  },
  {
   "cell_type": "code",
   "execution_count": 356,
   "id": "c0125eba-0db3-4e4d-9cce-c3cb229a37bf",
   "metadata": {
    "tags": []
   },
   "outputs": [],
   "source": [
    "x_train, x_test, y_train, y_test = train_test_split(features, df[\"Category\"], test_size = 0.2, random_state = 0)"
   ]
  },
  {
   "cell_type": "markdown",
   "id": "2e12bff2-ebb3-4310-a061-66b539b794e0",
   "metadata": {},
   "source": [
    "### Logistic Regression Model"
   ]
  },
  {
   "cell_type": "code",
   "execution_count": 357,
   "id": "9054b275-a065-4088-bc1a-b3cdf2e01a9c",
   "metadata": {
    "tags": []
   },
   "outputs": [
    {
     "name": "stdout",
     "output_type": "stream",
     "text": [
      "              precision    recall  f1-score   support\n",
      "\n",
      "           0       0.97      1.00      0.99       949\n",
      "           1       0.99      0.84      0.91       166\n",
      "\n",
      "    accuracy                           0.98      1115\n",
      "   macro avg       0.98      0.92      0.95      1115\n",
      "weighted avg       0.98      0.98      0.97      1115\n",
      "\n",
      "Logistic Regression accuracy is: 97.58%\n"
     ]
    }
   ],
   "source": [
    "LR = LogisticRegression()\n",
    "LR.fit(x_train,y_train)\n",
    "predict = LR.predict(x_test)\n",
    "print(classification_report(y_test, predict))\n",
    "LRAcc = accuracy_score(predict,y_test)\n",
    "print('Logistic Regression accuracy is: {:.2f}%'.format(LRAcc*100))"
   ]
  },
  {
   "attachments": {},
   "cell_type": "markdown",
   "id": "b3b07fff",
   "metadata": {},
   "source": [
    "## Load the Logestic Regresssion Model"
   ]
  },
  {
   "cell_type": "code",
   "execution_count": 358,
   "id": "12272225",
   "metadata": {},
   "outputs": [
    {
     "name": "stdout",
     "output_type": "stream",
     "text": [
      "0.98\n"
     ]
    }
   ],
   "source": [
    "joblib_file = \"spam_detection_model_LR\"\n",
    "joblib.dump(LR, joblib_file)\n",
    "loaded_model = joblib.load(open(joblib_file, 'rb'))\n",
    "pred_y = loaded_model.predict(x_test)\n",
    "result = np.round(accuracy_score(y_test, pred_y), 2)\n",
    "print(result)"
   ]
  },
  {
   "cell_type": "code",
   "execution_count": null,
   "id": "8c87a02d",
   "metadata": {},
   "outputs": [],
   "source": []
  }
 ],
 "metadata": {
  "kernelspec": {
   "display_name": "Python 3 (ipykernel)",
   "language": "python",
   "name": "python3"
  },
  "language_info": {
   "codemirror_mode": {
    "name": "ipython",
    "version": 3
   },
   "file_extension": ".py",
   "mimetype": "text/x-python",
   "name": "python",
   "nbconvert_exporter": "python",
   "pygments_lexer": "ipython3",
   "version": "3.9.7"
  }
 },
 "nbformat": 4,
 "nbformat_minor": 5
}
